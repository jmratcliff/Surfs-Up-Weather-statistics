{
 "cells": [
  {
   "cell_type": "code",
   "execution_count": 17,
   "metadata": {
    "nbgrader": {
     "grade": false,
     "grade_id": "cell-ce43e917c058e1e6",
     "locked": true,
     "schema_version": 1,
     "solution": false
    }
   },
   "outputs": [],
   "source": [
    "# Ignore SQLITE warnings related to Decimal numbers in the Chinook database\n",
    "import warnings\n",
    "warnings.filterwarnings('ignore')"
   ]
  },
  {
   "cell_type": "code",
   "execution_count": 22,
   "metadata": {
    "nbgrader": {
     "grade": false,
     "grade_id": "cell-5a901ed15fb6e525",
     "locked": false,
     "schema_version": 1,
     "solution": true
    }
   },
   "outputs": [],
   "source": [
    "# Import Dependencies\n",
    "import sqlalchemy\n",
    "from sqlalchemy.ext.automap import automap_base\n",
    "from sqlalchemy.orm import Session\n",
    "from sqlalchemy import create_engine, func, MetaData, Table,inspect"
   ]
  },
  {
   "cell_type": "markdown",
   "metadata": {},
   "source": [
    "### Using SQLAlchemy ORM to reflect and map the tables¶"
   ]
  },
  {
   "cell_type": "code",
   "execution_count": 19,
   "metadata": {
    "nbgrader": {
     "grade": false,
     "grade_id": "cell-3061988562b57cdd",
     "locked": false,
     "schema_version": 1,
     "solution": true
    }
   },
   "outputs": [
    {
     "data": {
      "text/plain": [
       "Engine(sqlite:///chinook.sqlite)"
      ]
     },
     "execution_count": 19,
     "metadata": {},
     "output_type": "execute_result"
    }
   ],
   "source": [
    "# Create an engine for the chinook.sqlite database\n",
    "engine = create_engine(\"sqlite:///chinook.sqlite\", echo=False)\n",
    "engine"
   ]
  },
  {
   "cell_type": "code",
   "execution_count": 23,
   "metadata": {},
   "outputs": [
    {
     "data": {
      "text/plain": [
       "['albums',\n",
       " 'artists',\n",
       " 'customers',\n",
       " 'employees',\n",
       " 'genres',\n",
       " 'invoice_items',\n",
       " 'invoices',\n",
       " 'media_types',\n",
       " 'playlist_track',\n",
       " 'playlists',\n",
       " 'sqlite_sequence',\n",
       " 'sqlite_stat1',\n",
       " 'tracks']"
      ]
     },
     "execution_count": 23,
     "metadata": {},
     "output_type": "execute_result"
    }
   ],
   "source": [
    "Inspector=inspect(engine)\n",
    "Inspector.get_table_names()"
   ]
  },
  {
   "cell_type": "code",
   "execution_count": 20,
   "metadata": {
    "nbgrader": {
     "grade": false,
     "grade_id": "cell-96fcd4f8590fa08d",
     "locked": false,
     "schema_version": 1,
     "solution": true
    }
   },
   "outputs": [
    {
     "data": {
      "text/plain": [
       "['albums',\n",
       " 'artists',\n",
       " 'customers',\n",
       " 'employees',\n",
       " 'genres',\n",
       " 'invoice_items',\n",
       " 'invoices',\n",
       " 'tracks',\n",
       " 'media_types',\n",
       " 'playlists']"
      ]
     },
     "execution_count": 20,
     "metadata": {},
     "output_type": "execute_result"
    }
   ],
   "source": [
    "# Reflect Database into ORM classes\n",
    "Base = automap_base()\n",
    "Base.prepare(engine, reflect=True)\n",
    "Base.classes.keys()"
   ]
  },
  {
   "cell_type": "code",
   "execution_count": 24,
   "metadata": {
    "nbgrader": {
     "grade": false,
     "grade_id": "cell-b94d91b48824b4bd",
     "locked": false,
     "schema_version": 1,
     "solution": true
    }
   },
   "outputs": [],
   "source": [
    "# Save a reference to the invoices table as `Invoices`\n",
    "Invoices = Base.classes.invoices"
   ]
  },
  {
   "cell_type": "code",
   "execution_count": 25,
   "metadata": {},
   "outputs": [],
   "source": [
    "# Save a reference to the invoice_items table as `Items`\n",
    "Items = Base.classes.invoice_items"
   ]
  },
  {
   "cell_type": "markdown",
   "metadata": {},
   "source": [
    "### Use the Metadata and Table object to describe the table and columns."
   ]
  },
  {
   "cell_type": "code",
   "execution_count": 26,
   "metadata": {},
   "outputs": [],
   "source": [
    "#  Create a meta data object to hold the reflected table schema\n",
    "metadata = MetaData()"
   ]
  },
  {
   "cell_type": "code",
   "execution_count": 27,
   "metadata": {},
   "outputs": [],
   "source": [
    "# Create a table object for  the `invoices` and `invoice_items` tables\n",
    "# use 'autoload' and 'autoload_with' to define the columns from the table. \n",
    "Invoices_table = Table('invoices', metadata, autoload=True, autoload_with=engine)\n",
    "Invoice_items_table = Table('invoice_items', metadata, autoload=True, autoload_with=engine)"
   ]
  },
  {
   "cell_type": "code",
   "execution_count": 28,
   "metadata": {},
   "outputs": [
    {
     "name": "stdout",
     "output_type": "stream",
     "text": [
      "['InvoiceId', 'CustomerId', 'InvoiceDate', 'BillingAddress', 'BillingCity', 'BillingState', 'BillingCountry', 'BillingPostalCode', 'Total']\n",
      "['InvoiceLineId', 'InvoiceId', 'TrackId', 'UnitPrice', 'Quantity']\n"
     ]
    }
   ],
   "source": [
    "# Get the column names using the 'column.keys()' methods on the table object. \n",
    "print(Invoices_table.columns.keys())\n",
    "print(Invoice_items_table.columns.keys())"
   ]
  },
  {
   "cell_type": "markdown",
   "metadata": {},
   "source": [
    "### Use Python to query the tables. "
   ]
  },
  {
   "cell_type": "code",
   "execution_count": 29,
   "metadata": {
    "nbgrader": {
     "grade": false,
     "grade_id": "cell-691d1378e207458c",
     "locked": false,
     "schema_version": 1,
     "solution": true
    }
   },
   "outputs": [],
   "source": [
    "# Create a database session object\n",
    "session = Session(engine)"
   ]
  },
  {
   "cell_type": "code",
   "execution_count": 33,
   "metadata": {
    "nbgrader": {
     "grade": false,
     "grade_id": "cell-88cce17ddb8934fb",
     "locked": false,
     "schema_version": 1,
     "solution": true
    }
   },
   "outputs": [
    {
     "data": {
      "text/plain": [
       "[('Germany',),\n",
       " ('Norway',),\n",
       " ('Belgium',),\n",
       " ('Canada',),\n",
       " ('USA',),\n",
       " ('France',),\n",
       " ('Ireland',),\n",
       " ('United Kingdom',),\n",
       " ('Australia',),\n",
       " ('Chile',),\n",
       " ('India',),\n",
       " ('Brazil',),\n",
       " ('Portugal',),\n",
       " ('Netherlands',),\n",
       " ('Spain',),\n",
       " ('Sweden',),\n",
       " ('Czech Republic',),\n",
       " ('Finland',),\n",
       " ('Denmark',),\n",
       " ('Italy',),\n",
       " ('Poland',),\n",
       " ('Austria',),\n",
       " ('Hungary',),\n",
       " ('Argentina',)]"
      ]
     },
     "execution_count": 33,
     "metadata": {},
     "output_type": "execute_result"
    }
   ],
   "source": [
    "# List all of the countries found in the invoices table\n",
    "# session.query(Invoices.BillingCountry).group_by(Invoices.BillingCountry).all()\n",
    "\n",
    "# Alternative Solution using `distinct`\n",
    "session.query(Invoices.BillingCountry).distinct().all()"
   ]
  },
  {
   "cell_type": "code",
   "execution_count": 40,
   "metadata": {
    "nbgrader": {
     "grade": false,
     "grade_id": "cell-4feed124c0f54f43",
     "locked": false,
     "schema_version": 1,
     "solution": true
    }
   },
   "outputs": [
    {
     "data": {
      "text/plain": [
       "[('USA', Decimal('523.06')),\n",
       " ('Canada', Decimal('303.96')),\n",
       " ('France', Decimal('195.10')),\n",
       " ('Brazil', Decimal('190.10')),\n",
       " ('Germany', Decimal('156.48')),\n",
       " ('United Kingdom', Decimal('112.86')),\n",
       " ('Czech Republic', Decimal('90.24')),\n",
       " ('Portugal', Decimal('77.24')),\n",
       " ('India', Decimal('75.26')),\n",
       " ('Chile', Decimal('46.62')),\n",
       " ('Ireland', Decimal('45.62')),\n",
       " ('Hungary', Decimal('45.62')),\n",
       " ('Austria', Decimal('42.62')),\n",
       " ('Finland', Decimal('41.62')),\n",
       " ('Netherlands', Decimal('40.62')),\n",
       " ('Norway', Decimal('39.62')),\n",
       " ('Sweden', Decimal('38.62')),\n",
       " ('Poland', Decimal('37.62')),\n",
       " ('Italy', Decimal('37.62')),\n",
       " ('Denmark', Decimal('37.62')),\n",
       " ('Australia', Decimal('37.62')),\n",
       " ('Argentina', Decimal('37.62')),\n",
       " ('Spain', Decimal('37.62')),\n",
       " ('Belgium', Decimal('37.62'))]"
      ]
     },
     "execution_count": 40,
     "metadata": {},
     "output_type": "execute_result"
    }
   ],
   "source": [
    "# Design a query that lists the invoices totals for each billing country \n",
    "# and sort the output in descending order.\n",
    "session.query(Invoices.BillingCountry, func.sum(Invoices.Total)).\\\n",
    "group_by(Invoices.BillingCountry).order_by(func.sum(Invoices.Total).desc()).all()"
   ]
  },
  {
   "cell_type": "code",
   "execution_count": 41,
   "metadata": {
    "nbgrader": {
     "grade": false,
     "grade_id": "cell-0a9629333439cef4",
     "locked": false,
     "schema_version": 1,
     "solution": true
    }
   },
   "outputs": [
    {
     "data": {
      "text/plain": [
       "[('10012-2612', Decimal('1.98'), 'New York'),\n",
       " ('2113', Decimal('13.86'), 'Boston'),\n",
       " ('32801', Decimal('1.98'), 'Orlando'),\n",
       " ('53703', Decimal('5.94'), 'Madison'),\n",
       " ('60611', Decimal('1.98'), 'Chicago'),\n",
       " ('76110', Decimal('1.98'), 'Fort Worth'),\n",
       " ('84102', Decimal('1.98'), 'Salt Lake City'),\n",
       " ('85719', Decimal('8.91'), 'Tucson'),\n",
       " ('89503', Decimal('3.96'), 'Reno'),\n",
       " ('94040-111', Decimal('1.98'), 'Mountain View'),\n",
       " ('94043-1351', Decimal('0.99'), 'Mountain View'),\n",
       " ('95014', Decimal('1.98'), 'Cupertino'),\n",
       " ('98052-8300', Decimal('1.98'), 'Redmond')]"
      ]
     },
     "execution_count": 41,
     "metadata": {},
     "output_type": "execute_result"
    }
   ],
   "source": [
    "# List all of the Billing Postal Codes for the USA.\n",
    "results = session.query(Invoices.BillingPostalCode,Invoices.Total,Invoices.BillingCity).\\\n",
    "    filter(Invoices.BillingCountry == 'USA').group_by(Invoices.BillingPostalCode).all()\n",
    "results"
   ]
  },
  {
   "cell_type": "code",
   "execution_count": 42,
   "metadata": {
    "nbgrader": {
     "grade": false,
     "grade_id": "cell-a2cbfd30ace44821",
     "locked": false,
     "schema_version": 1,
     "solution": true
    }
   },
   "outputs": [
    {
     "data": {
      "text/plain": [
       "Decimal('523.0600000000')"
      ]
     },
     "execution_count": 42,
     "metadata": {},
     "output_type": "execute_result"
    }
   ],
   "source": [
    "# Calculate the Item Totals (sum(UnitPrice * Quantity)) for the USA\n",
    "session.query(func.sum(Items.UnitPrice * Items.Quantity)).\\\n",
    "    filter(Invoices.InvoiceId == Items.InvoiceId).\\\n",
    "    filter(Invoices.BillingCountry == 'USA').scalar()"
   ]
  },
  {
   "cell_type": "code",
   "execution_count": 16,
   "metadata": {
    "nbgrader": {
     "grade": false,
     "grade_id": "cell-04614f479d1ab21b",
     "locked": false,
     "schema_version": 1,
     "solution": true
    }
   },
   "outputs": [
    {
     "data": {
      "text/plain": [
       "[('76110', Decimal('47.6200000000')),\n",
       " ('60611', Decimal('43.6200000000')),\n",
       " ('84102', Decimal('43.6200000000')),\n",
       " ('53703', Decimal('42.6200000000')),\n",
       " ('94040-111', Decimal('39.6200000000')),\n",
       " ('98052-8300', Decimal('39.6200000000')),\n",
       " ('32801', Decimal('39.6200000000')),\n",
       " ('95014', Decimal('38.6200000000')),\n",
       " ('94043-1351', Decimal('37.6200000000')),\n",
       " ('89503', Decimal('37.6200000000')),\n",
       " ('85719', Decimal('37.6200000000')),\n",
       " ('2113', Decimal('37.6200000000')),\n",
       " ('10012-2612', Decimal('37.6200000000'))]"
      ]
     },
     "execution_count": 16,
     "metadata": {},
     "output_type": "execute_result"
    }
   ],
   "source": [
    "# Calculate the Item Totals `sum(UnitPrice * Quantity)` for each Billing Postal Code in the USA\n",
    "# Sort the results in descending order by Total\n",
    "session.query(Invoices.BillingPostalCode, func.sum(Items.UnitPrice * Items.Quantity)).\\\n",
    "    filter(Invoices.InvoiceId == Items.InvoiceId).\\\n",
    "    filter(Invoices.BillingCountry == 'USA').\\\n",
    "    group_by(Invoices.BillingPostalCode).\\\n",
    "    order_by(func.sum(Items.UnitPrice * Items.Quantity).desc()).all()"
   ]
  },
  {
   "cell_type": "code",
   "execution_count": null,
   "metadata": {},
   "outputs": [],
   "source": []
  }
 ],
 "metadata": {
  "celltoolbar": "Create Assignment",
  "kernelspec": {
   "display_name": "PythonData",
   "language": "python",
   "name": "pythondata"
  },
  "language_info": {
   "codemirror_mode": {
    "name": "ipython",
    "version": 3
   },
   "file_extension": ".py",
   "mimetype": "text/x-python",
   "name": "python",
   "nbconvert_exporter": "python",
   "pygments_lexer": "ipython3",
   "version": "3.7.13"
  },
  "varInspector": {
   "cols": {
    "lenName": 16,
    "lenType": 16,
    "lenVar": 40
   },
   "kernels_config": {
    "python": {
     "delete_cmd_postfix": "",
     "delete_cmd_prefix": "del ",
     "library": "var_list.py",
     "varRefreshCmd": "print(var_dic_list())"
    },
    "r": {
     "delete_cmd_postfix": ") ",
     "delete_cmd_prefix": "rm(",
     "library": "var_list.r",
     "varRefreshCmd": "cat(var_dic_list()) "
    }
   },
   "types_to_exclude": [
    "module",
    "function",
    "builtin_function_or_method",
    "instance",
    "_Feature"
   ],
   "window_display": false
  }
 },
 "nbformat": 4,
 "nbformat_minor": 2
}
